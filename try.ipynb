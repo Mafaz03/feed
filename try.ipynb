{
 "cells": [
  {
   "cell_type": "code",
   "execution_count": 94,
   "metadata": {},
   "outputs": [],
   "source": [
    "import requests\n",
    "from bs4 import BeautifulSoup\n",
    "import json\n",
    "import matplotlib.pyplot as plt\n",
    "\n",
    "def get_description(url):\n",
    "    response = requests.get(url)\n",
    "    if response.status_code == 200:\n",
    "        # Parse the HTML content\n",
    "        soup = BeautifulSoup(response.content, \"html.parser\")\n",
    "        # Find all image tags\n",
    "        images = soup.find_all(\"img\")\n",
    "        script = soup.find_all(\"script\", type=\"application/ld+json\")[0]\n",
    "        description = json.loads(script.string)['description'] \n",
    "    else:\n",
    "        print(f\"Failed to fetch the page. HTTP Status Code: {response.status_code}\")\n",
    "    return description"
   ]
  },
  {
   "cell_type": "code",
   "execution_count": null,
   "metadata": {},
   "outputs": [],
   "source": [
    "import numpy as np\n",
    "from io import BytesIO\n",
    "from PIL import Image\n",
    "def image_url_to_numpy_array(url, new_width=1080, new_height=1350):\n",
    "    response = requests.get(url)\n",
    "    response.raise_for_status()  # Ensure the request was successful\n",
    "    im = Image.open(BytesIO(response.content))\n",
    "    width, height = im.size\n",
    "    aspect_ratio_original = width / height\n",
    "    aspect_ratio_new = new_width / new_height\n",
    "    if aspect_ratio_original > aspect_ratio_new:\n",
    "        scale_factor = new_height / height\n",
    "    else:\n",
    "        scale_factor = new_width / width\n",
    "    target_width = int(width * scale_factor)\n",
    "    target_height = int(height * scale_factor)\n",
    "    im = im.resize((target_width, target_height), Image.Resampling.LANCZOS)\n",
    "    left = (target_width - new_width) / 2\n",
    "    top = (target_height - new_height) / 2\n",
    "    right = left + new_width\n",
    "    bottom = top + new_height\n",
    "    im = im.crop((left, top, right, bottom))\n",
    "    img_array = np.array(im)\n",
    "    return img_array\n"
   ]
  },
  {
   "cell_type": "code",
   "execution_count": 90,
   "metadata": {},
   "outputs": [],
   "source": [
    "import requests\n",
    "import xml.etree.ElementTree as ET\n",
    "import re\n",
    "\n",
    "# URL of the RSS feed\n",
    "url = \"https://www.indiatoday.in/rss/1206614\"\n",
    "\n",
    "# Fetch the RSS feed\n",
    "response = requests.get(url)\n",
    "\n",
    "rss = {}\n",
    "\n",
    "if response.status_code == 200:\n",
    "    # Parse the XML content\n",
    "    root = ET.fromstring(response.content)\n",
    "    \n",
    "    # Iterate through the items in the feed\n",
    "    for idx, item in enumerate(root.findall(\".//item\")):\n",
    "        title = item.find(\"title\").text\n",
    "        link = item.find(\"link\").text[:-1]\n",
    "        description = item.find(\"description\").text\n",
    "\n",
    "        rss[idx] = {\"Title\": title, \"Link\": link, \"Image\": re.search(\"(?P<url>https?://[^\\s]+)\", description.split(\"src\")[-1]).group(\"url\")[:-2], \"Description\": get_description(link)}\n",
    "        \n",
    "        # print(f\"Title: {title}\")\n",
    "        # print(f\"Link: {link}\")\n",
    "        # print(f\"Image: {re.search(\"(?P<url>https?://[^\\s]+)\", description.split(\"src\")[-1]).group(\"url\")}\")\n",
    "else:\n",
    "    print(f\"Failed to fetch the RSS feed. HTTP Status Code: {response.status_code}\")"
   ]
  },
  {
   "cell_type": "code",
   "execution_count": 137,
   "metadata": {},
   "outputs": [
    {
     "data": {
      "text/plain": [
       "{'Title': 'Madhabi Puri Buch | Trial by fire',\n",
       " 'Link': ' https://www.indiatoday.in/magazine/the-big-story/story/20240923-madhabi-puri-buch-trial-by-fire-2599237-2024-09-14?utm_source=rss',\n",
       " 'Image': 'https://akm-img-a-in.tosshub.com/indiatoday/images/story/202409/trial-by-fire-135611272-16x9_0.jpg?VersionId=G3_9375i2wnMumOKwBp8VkJ_i8F7X5lm',\n",
       " 'Description': 'Hounded by allegations of conflict of interest in the Adani probe and rising discontent among her own staff, the Sebi chief has much to answer for—and disclose'}"
      ]
     },
     "execution_count": 137,
     "metadata": {},
     "output_type": "execute_result"
    }
   ],
   "source": [
    "rss_choosen = rss[8]\n",
    "rss_choosen"
   ]
  },
  {
   "cell_type": "code",
   "execution_count": 138,
   "metadata": {},
   "outputs": [
    {
     "name": "stderr",
     "output_type": "stream",
     "text": [
      "/var/folders/3p/xlr6tgyx4t980qpxnnrs12kc0000gn/T/ipykernel_99902/1287201412.py:18: DeprecationWarning: textsize is deprecated and will be removed in Pillow 10 (2023-07-01). Use textbbox or textlength instead.\n",
      "  text_width, text_height = draw.textsize(text, font=font)\n",
      "/var/folders/3p/xlr6tgyx4t980qpxnnrs12kc0000gn/T/ipykernel_99902/1287201412.py:32: DeprecationWarning: textsize is deprecated and will be removed in Pillow 10 (2023-07-01). Use textbbox or textlength instead.\n",
      "  line_height = draw.textsize(\"A\", font=font)[1]\n",
      "/var/folders/3p/xlr6tgyx4t980qpxnnrs12kc0000gn/T/ipykernel_99902/1287201412.py:37: DeprecationWarning: textsize is deprecated and will be removed in Pillow 10 (2023-07-01). Use textbbox or textlength instead.\n",
      "  text_width, _ = draw.textsize(line, font=font)\n",
      "/var/folders/3p/xlr6tgyx4t980qpxnnrs12kc0000gn/T/ipykernel_99902/1287201412.py:37: DeprecationWarning: textsize is deprecated and will be removed in Pillow 10 (2023-07-01). Use textbbox or textlength instead.\n",
      "  text_width, _ = draw.textsize(line, font=font)\n",
      "/var/folders/3p/xlr6tgyx4t980qpxnnrs12kc0000gn/T/ipykernel_99902/1287201412.py:37: DeprecationWarning: textsize is deprecated and will be removed in Pillow 10 (2023-07-01). Use textbbox or textlength instead.\n",
      "  text_width, _ = draw.textsize(line, font=font)\n"
     ]
    }
   ],
   "source": [
    "from PIL import Image, ImageDraw, ImageFont\n",
    "import textwrap\n",
    "\n",
    "fill_image = image_url_to_numpy_array(rss_choosen[\"Image\"])\n",
    "\n",
    "template = plt.imread(\"template.png\")\n",
    "overlay = Image.open(\"template.png\").convert(\"RGBA\")\n",
    "background = Image.fromarray(fill_image)\n",
    "background.paste(overlay, (0,0), overlay)\n",
    "\n",
    "image = background\n",
    "\n",
    "draw = ImageDraw.Draw(image)\n",
    "\n",
    "font = ImageFont.truetype(\"Nunito-VariableFont_wght.ttf\", 50)\n",
    "text = rss_choosen[\"Title\"]\n",
    "image_width, image_height = image.size\n",
    "text_width, text_height = draw.textsize(text, font=font)\n",
    "position = ((image_width - text_width) // 2, 1000)\n",
    "draw.text(position, text, font=font, fill=\"white\")  # Adjust `fill` as needed\n",
    "\n",
    "text = rss_choosen[\"Description\"]\n",
    "font = ImageFont.truetype(\"Nunito-VariableFont_wght.ttf\", 30)\n",
    "\n",
    "# Define the maximum width for the text\n",
    "max_width = image_width - 0  # Leave some padding on both sides\n",
    "\n",
    "# Use textwrap to split the text into multiple lines\n",
    "lines = textwrap.wrap(text, width=70)  # Adjust `width` based on text and font size\n",
    "\n",
    "# Calculate line height\n",
    "line_height = draw.textsize(\"A\", font=font)[1]\n",
    "\n",
    "# Start drawing lines\n",
    "y = 1100  # Starting y position\n",
    "for line in lines:\n",
    "    text_width, _ = draw.textsize(line, font=font)\n",
    "    x = (image_width - text_width) // 2  # Center align each line\n",
    "    draw.text((x, y), line, font=font, fill=\"white\")\n",
    "    y += line_height + 5 \n",
    "\n",
    "image.save(\"result.png\")"
   ]
  },
  {
   "cell_type": "code",
   "execution_count": null,
   "metadata": {},
   "outputs": [],
   "source": []
  },
  {
   "cell_type": "code",
   "execution_count": null,
   "metadata": {},
   "outputs": [],
   "source": []
  }
 ],
 "metadata": {
  "kernelspec": {
   "display_name": "Python 3",
   "language": "python",
   "name": "python3"
  },
  "language_info": {
   "codemirror_mode": {
    "name": "ipython",
    "version": 3
   },
   "file_extension": ".py",
   "mimetype": "text/x-python",
   "name": "python",
   "nbconvert_exporter": "python",
   "pygments_lexer": "ipython3",
   "version": "3.11.5"
  }
 },
 "nbformat": 4,
 "nbformat_minor": 2
}
